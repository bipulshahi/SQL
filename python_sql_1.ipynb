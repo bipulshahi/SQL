{
 "cells": [
  {
   "cell_type": "markdown",
   "id": "acquired-monkey",
   "metadata": {},
   "source": [
    "!pip3 install pandas"
   ]
  },
  {
   "cell_type": "code",
   "execution_count": 3,
   "id": "joined-sharing",
   "metadata": {},
   "outputs": [],
   "source": [
    "#import libraries\n",
    "\n",
    "import mysql.connector\n",
    "from mysql.connector import Error\n",
    "import pandas as pd"
   ]
  },
  {
   "cell_type": "code",
   "execution_count": 8,
   "id": "breeding-yacht",
   "metadata": {},
   "outputs": [
    {
     "name": "stdout",
     "output_type": "stream",
     "text": [
      "Database Connection Established\n",
      "<mysql.connector.connection.MySQLConnection object at 0x7fa0fb291910>\n"
     ]
    }
   ],
   "source": [
    "#function to create server connection\n",
    "def server_conn(host_name,user_name,user_password):\n",
    "    connection = None\n",
    "    try:\n",
    "        connection = mysql.connector.connect(host=host_name, \n",
    "                                             user=user_name, \n",
    "                                             passwd=user_password)\n",
    "        print('Database Connection Established')\n",
    "    except Error as err:\n",
    "        print(\"Error-\",err)\n",
    "    return connection\n",
    "\n",
    "connection = server_conn(\"localhost\",\"root\",\"725@Mysql\")\n",
    "print(connection)"
   ]
  },
  {
   "cell_type": "code",
   "execution_count": 9,
   "id": "cosmetic-float",
   "metadata": {},
   "outputs": [
    {
     "name": "stdout",
     "output_type": "stream",
     "text": [
      "Database Created Successfully\n"
     ]
    }
   ],
   "source": [
    "#function to create a database\n",
    "def create_db(connection,query):\n",
    "    cursor = connection.cursor()\n",
    "    try:\n",
    "        cursor.execute(query)\n",
    "        print(\"Database Created Successfully\")\n",
    "    except:\n",
    "        print(\"Error-\",err)\n",
    "        \n",
    "database_create_query = \"Create database mysql_db\"\n",
    "create_db(connection,database_create_query)"
   ]
  },
  {
   "cell_type": "code",
   "execution_count": 13,
   "id": "controlling-rover",
   "metadata": {},
   "outputs": [],
   "source": [
    "#Connection to database\n",
    "def db_connection(host_name,user_name,user_password , db_name):\n",
    "    connection = None\n",
    "    try:\n",
    "        connection = mysql.connector.connect(host=host_name, \n",
    "                                             user=user_name, \n",
    "                                             passwd=user_password,\n",
    "                                             database=db_name)\n",
    "        print('Database Connection Established')\n",
    "    except Error as err:\n",
    "        print(\"Error-\",err)\n",
    "    return connection"
   ]
  },
  {
   "cell_type": "code",
   "execution_count": 16,
   "id": "norwegian-minister",
   "metadata": {},
   "outputs": [],
   "source": [
    "#function to execute sql querries\n",
    "\n",
    "def execute_query(connection,query):\n",
    "    cursor = connection.cursor()\n",
    "    try:\n",
    "        cursor.execute(query)\n",
    "        connection.commit()\n",
    "        print(\"Querry Executed\")\n",
    "    except Error as err:\n",
    "        print(\"Error-\",err)"
   ]
  },
  {
   "cell_type": "code",
   "execution_count": 18,
   "id": "sustained-explanation",
   "metadata": {},
   "outputs": [
    {
     "name": "stdout",
     "output_type": "stream",
     "text": [
      "Database Connection Established\n",
      "Querry Executed\n"
     ]
    }
   ],
   "source": [
    "#create a table to maintain product order history\n",
    "create_ord_table = \"\"\"\n",
    "create table order_details(\n",
    "order_id int primary key, \n",
    "consumer_name varchar(35) , \n",
    "prod_name varchar(25),\n",
    "quantity int,\n",
    "order_date date,\n",
    "price float,\n",
    "contact varchar(25));\n",
    "\"\"\"\n",
    "\n",
    "#database connection\n",
    "connection = db_connection(\"localhost\",\"root\",\"725@Mysql\", \"mysql_db\")\n",
    "execute_query(connection,create_ord_table)"
   ]
  },
  {
   "cell_type": "code",
   "execution_count": 20,
   "id": "north-evening",
   "metadata": {},
   "outputs": [
    {
     "name": "stdout",
     "output_type": "stream",
     "text": [
      "Database Connection Established\n",
      "Querry Executed\n"
     ]
    }
   ],
   "source": [
    "#Insert data into the table\n",
    "\n",
    "order_info = \"\"\"\n",
    "insert into order_details values\n",
    "(111, 'John', 'Trimmer', 3, '2022-05-12', 450, '6544679865567'),\n",
    "(112, 'Jerry', 'Tablet', 2, '2022-05-06', 4500, '654434567'),\n",
    "(113, 'Joe', 'Mouse', 5, '2022-05-09', 250, '65434567'),\n",
    "(114, 'David', 'Monitor', 1, '2022-05-11', 1500, '65446123456'),\n",
    "(115, 'Bipul', 'Keyboard', 7, '2022-05-15', 350, '654234567'),\n",
    "(116, 'Samuel', 'Bottle', 8, '2022-05-22', 50, '6544234556');\n",
    "\"\"\"\n",
    "\n",
    "connection = db_connection(\"localhost\",\"root\",\"725@Mysql\", \"mysql_db\")\n",
    "execute_query(connection,order_info)"
   ]
  },
  {
   "cell_type": "code",
   "execution_count": 23,
   "id": "educated-czech",
   "metadata": {},
   "outputs": [],
   "source": [
    "#Read the data table\n",
    "\n",
    "def read_table(connection,query):\n",
    "    cursor = connection.cursor()\n",
    "    result = None\n",
    "    try:\n",
    "        cursor.execute(query)\n",
    "        result = cursor.fetchall()\n",
    "        return result\n",
    "    except Error as err:\n",
    "        print(\"Error-\",err)\n"
   ]
  },
  {
   "cell_type": "code",
   "execution_count": 24,
   "id": "circular-budget",
   "metadata": {},
   "outputs": [
    {
     "name": "stdout",
     "output_type": "stream",
     "text": [
      "Database Connection Established\n",
      "(111, 'John', 'Trimmer', 3, datetime.date(2022, 5, 12), 450.0, '6544679865567')\n",
      "(112, 'Jerry', 'Tablet', 2, datetime.date(2022, 5, 6), 4500.0, '654434567')\n",
      "(113, 'Joe', 'Mouse', 5, datetime.date(2022, 5, 9), 250.0, '65434567')\n",
      "(114, 'David', 'Monitor', 1, datetime.date(2022, 5, 11), 1500.0, '65446123456')\n",
      "(115, 'Bipul', 'Keyboard', 7, datetime.date(2022, 5, 15), 350.0, '654234567')\n",
      "(116, 'Samuel', 'Bottle', 8, datetime.date(2022, 5, 22), 50.0, '6544234556')\n"
     ]
    }
   ],
   "source": [
    "#execute read function\n",
    "\n",
    "read_query = \"select * from order_details\"\n",
    "connection = db_connection(\"localhost\",\"root\",\"725@Mysql\", \"mysql_db\")\n",
    "results = read_table(connection,read_query)\n",
    "for res in results:\n",
    "    print(res)"
   ]
  },
  {
   "cell_type": "code",
   "execution_count": 25,
   "id": "serial-rehabilitation",
   "metadata": {},
   "outputs": [
    {
     "name": "stdout",
     "output_type": "stream",
     "text": [
      "Database Connection Established\n",
      "('John', 'Trimmer', '6544679865567')\n",
      "('Jerry', 'Tablet', '654434567')\n",
      "('Joe', 'Mouse', '65434567')\n",
      "('David', 'Monitor', '65446123456')\n",
      "('Bipul', 'Keyboard', '654234567')\n",
      "('Samuel', 'Bottle', '6544234556')\n"
     ]
    }
   ],
   "source": [
    "read_query = \"select consumer_name,prod_name,contact from order_details\"\n",
    "connection = db_connection(\"localhost\",\"root\",\"725@Mysql\", \"mysql_db\")\n",
    "results = read_table(connection,read_query)\n",
    "for res in results:\n",
    "    print(res)"
   ]
  },
  {
   "cell_type": "code",
   "execution_count": 27,
   "id": "unable-recycling",
   "metadata": {},
   "outputs": [
    {
     "name": "stdout",
     "output_type": "stream",
     "text": [
      "Database Connection Established\n",
      "('John', 2022)\n",
      "('Jerry', 2022)\n",
      "('Joe', 2022)\n",
      "('David', 2022)\n",
      "('Bipul', 2022)\n",
      "('Samuel', 2022)\n"
     ]
    }
   ],
   "source": [
    "read_query = \"select consumer_name,year(order_date) from order_details\"\n",
    "connection = db_connection(\"localhost\",\"root\",\"725@Mysql\", \"mysql_db\")\n",
    "results = read_table(connection,read_query)\n",
    "for res in results:\n",
    "    print(res)"
   ]
  },
  {
   "cell_type": "code",
   "execution_count": 29,
   "id": "assumed-occupation",
   "metadata": {},
   "outputs": [
    {
     "name": "stdout",
     "output_type": "stream",
     "text": [
      "Database Connection Established\n",
      "(112, 'Jerry', 'Tablet', 2, datetime.date(2022, 5, 6), 4500.0, '654434567')\n",
      "(113, 'Joe', 'Mouse', 5, datetime.date(2022, 5, 9), 250.0, '65434567')\n"
     ]
    }
   ],
   "source": [
    "#run a query to find orders before 11-05-22\n",
    "read_query = \"select * from order_details where order_date < '2022-05-11'\"\n",
    "connection = db_connection(\"localhost\",\"root\",\"725@Mysql\", \"mysql_db\")\n",
    "results = read_table(connection,read_query)\n",
    "for res in results:\n",
    "    print(res)"
   ]
  },
  {
   "cell_type": "code",
   "execution_count": 30,
   "id": "ordinary-tokyo",
   "metadata": {},
   "outputs": [
    {
     "name": "stdout",
     "output_type": "stream",
     "text": [
      "Database Connection Established\n",
      "(116, 'Samuel', 'Bottle', 8, datetime.date(2022, 5, 22), 50.0, '6544234556')\n",
      "(113, 'Joe', 'Mouse', 5, datetime.date(2022, 5, 9), 250.0, '65434567')\n",
      "(115, 'Bipul', 'Keyboard', 7, datetime.date(2022, 5, 15), 350.0, '654234567')\n",
      "(111, 'John', 'Trimmer', 3, datetime.date(2022, 5, 12), 450.0, '6544679865567')\n",
      "(114, 'David', 'Monitor', 1, datetime.date(2022, 5, 11), 1500.0, '65446123456')\n",
      "(112, 'Jerry', 'Tablet', 2, datetime.date(2022, 5, 6), 4500.0, '654434567')\n"
     ]
    }
   ],
   "source": [
    "#execute query to access order by price in ascending form\n",
    "read_query = \"select * from order_details order by price\"\n",
    "connection = db_connection(\"localhost\",\"root\",\"725@Mysql\", \"mysql_db\")\n",
    "results = read_table(connection,read_query)\n",
    "for res in results:\n",
    "    print(res)"
   ]
  },
  {
   "cell_type": "code",
   "execution_count": 37,
   "id": "contained-ontario",
   "metadata": {},
   "outputs": [],
   "source": [
    "db_info = []\n",
    "\n",
    "for res in results:\n",
    "    db_info.append(list(res))\n",
    "    \n",
    "col_names = [\"Order_ids\",\"Name\",\"Item\",\"Quantity\",\"Date_Ordered\",\"Unit_price\",\"Contact\"]\n",
    "    \n",
    "df = pd.DataFrame(db_info , columns=col_names)"
   ]
  },
  {
   "cell_type": "code",
   "execution_count": 38,
   "id": "sixth-transsexual",
   "metadata": {},
   "outputs": [
    {
     "name": "stdout",
     "output_type": "stream",
     "text": [
      "[[116, 'Samuel', 'Bottle', 8, datetime.date(2022, 5, 22), 50.0, '6544234556'], [113, 'Joe', 'Mouse', 5, datetime.date(2022, 5, 9), 250.0, '65434567'], [115, 'Bipul', 'Keyboard', 7, datetime.date(2022, 5, 15), 350.0, '654234567'], [111, 'John', 'Trimmer', 3, datetime.date(2022, 5, 12), 450.0, '6544679865567'], [114, 'David', 'Monitor', 1, datetime.date(2022, 5, 11), 1500.0, '65446123456'], [112, 'Jerry', 'Tablet', 2, datetime.date(2022, 5, 6), 4500.0, '654434567']]\n"
     ]
    }
   ],
   "source": [
    "print(db_info)"
   ]
  },
  {
   "cell_type": "code",
   "execution_count": 39,
   "id": "improving-surname",
   "metadata": {},
   "outputs": [
    {
     "data": {
      "text/html": [
       "<div>\n",
       "<style scoped>\n",
       "    .dataframe tbody tr th:only-of-type {\n",
       "        vertical-align: middle;\n",
       "    }\n",
       "\n",
       "    .dataframe tbody tr th {\n",
       "        vertical-align: top;\n",
       "    }\n",
       "\n",
       "    .dataframe thead th {\n",
       "        text-align: right;\n",
       "    }\n",
       "</style>\n",
       "<table border=\"1\" class=\"dataframe\">\n",
       "  <thead>\n",
       "    <tr style=\"text-align: right;\">\n",
       "      <th></th>\n",
       "      <th>Order_ids</th>\n",
       "      <th>Name</th>\n",
       "      <th>Item</th>\n",
       "      <th>Quantity</th>\n",
       "      <th>Date_Ordered</th>\n",
       "      <th>Unit_price</th>\n",
       "      <th>Contact</th>\n",
       "    </tr>\n",
       "  </thead>\n",
       "  <tbody>\n",
       "    <tr>\n",
       "      <th>0</th>\n",
       "      <td>116</td>\n",
       "      <td>Samuel</td>\n",
       "      <td>Bottle</td>\n",
       "      <td>8</td>\n",
       "      <td>2022-05-22</td>\n",
       "      <td>50.0</td>\n",
       "      <td>6544234556</td>\n",
       "    </tr>\n",
       "    <tr>\n",
       "      <th>1</th>\n",
       "      <td>113</td>\n",
       "      <td>Joe</td>\n",
       "      <td>Mouse</td>\n",
       "      <td>5</td>\n",
       "      <td>2022-05-09</td>\n",
       "      <td>250.0</td>\n",
       "      <td>65434567</td>\n",
       "    </tr>\n",
       "    <tr>\n",
       "      <th>2</th>\n",
       "      <td>115</td>\n",
       "      <td>Bipul</td>\n",
       "      <td>Keyboard</td>\n",
       "      <td>7</td>\n",
       "      <td>2022-05-15</td>\n",
       "      <td>350.0</td>\n",
       "      <td>654234567</td>\n",
       "    </tr>\n",
       "    <tr>\n",
       "      <th>3</th>\n",
       "      <td>111</td>\n",
       "      <td>John</td>\n",
       "      <td>Trimmer</td>\n",
       "      <td>3</td>\n",
       "      <td>2022-05-12</td>\n",
       "      <td>450.0</td>\n",
       "      <td>6544679865567</td>\n",
       "    </tr>\n",
       "    <tr>\n",
       "      <th>4</th>\n",
       "      <td>114</td>\n",
       "      <td>David</td>\n",
       "      <td>Monitor</td>\n",
       "      <td>1</td>\n",
       "      <td>2022-05-11</td>\n",
       "      <td>1500.0</td>\n",
       "      <td>65446123456</td>\n",
       "    </tr>\n",
       "    <tr>\n",
       "      <th>5</th>\n",
       "      <td>112</td>\n",
       "      <td>Jerry</td>\n",
       "      <td>Tablet</td>\n",
       "      <td>2</td>\n",
       "      <td>2022-05-06</td>\n",
       "      <td>4500.0</td>\n",
       "      <td>654434567</td>\n",
       "    </tr>\n",
       "  </tbody>\n",
       "</table>\n",
       "</div>"
      ],
      "text/plain": [
       "   Order_ids    Name      Item  Quantity Date_Ordered  Unit_price  \\\n",
       "0        116  Samuel    Bottle         8   2022-05-22        50.0   \n",
       "1        113     Joe     Mouse         5   2022-05-09       250.0   \n",
       "2        115   Bipul  Keyboard         7   2022-05-15       350.0   \n",
       "3        111    John   Trimmer         3   2022-05-12       450.0   \n",
       "4        114   David   Monitor         1   2022-05-11      1500.0   \n",
       "5        112   Jerry    Tablet         2   2022-05-06      4500.0   \n",
       "\n",
       "         Contact  \n",
       "0     6544234556  \n",
       "1       65434567  \n",
       "2      654234567  \n",
       "3  6544679865567  \n",
       "4    65446123456  \n",
       "5      654434567  "
      ]
     },
     "execution_count": 39,
     "metadata": {},
     "output_type": "execute_result"
    }
   ],
   "source": [
    "df"
   ]
  },
  {
   "cell_type": "code",
   "execution_count": 45,
   "id": "fixed-touch",
   "metadata": {},
   "outputs": [],
   "source": [
    "df['Total_Paid_Amount'] = df.Quantity * df.Unit_price"
   ]
  },
  {
   "cell_type": "code",
   "execution_count": 46,
   "id": "thermal-orange",
   "metadata": {},
   "outputs": [
    {
     "data": {
      "text/html": [
       "<div>\n",
       "<style scoped>\n",
       "    .dataframe tbody tr th:only-of-type {\n",
       "        vertical-align: middle;\n",
       "    }\n",
       "\n",
       "    .dataframe tbody tr th {\n",
       "        vertical-align: top;\n",
       "    }\n",
       "\n",
       "    .dataframe thead th {\n",
       "        text-align: right;\n",
       "    }\n",
       "</style>\n",
       "<table border=\"1\" class=\"dataframe\">\n",
       "  <thead>\n",
       "    <tr style=\"text-align: right;\">\n",
       "      <th></th>\n",
       "      <th>Order_ids</th>\n",
       "      <th>Name</th>\n",
       "      <th>Item</th>\n",
       "      <th>Quantity</th>\n",
       "      <th>Date_Ordered</th>\n",
       "      <th>Unit_price</th>\n",
       "      <th>Contact</th>\n",
       "      <th>Total_Paid_Amount</th>\n",
       "    </tr>\n",
       "  </thead>\n",
       "  <tbody>\n",
       "    <tr>\n",
       "      <th>0</th>\n",
       "      <td>116</td>\n",
       "      <td>Samuel</td>\n",
       "      <td>Bottle</td>\n",
       "      <td>8</td>\n",
       "      <td>2022-05-22</td>\n",
       "      <td>50.0</td>\n",
       "      <td>6544234556</td>\n",
       "      <td>400.0</td>\n",
       "    </tr>\n",
       "    <tr>\n",
       "      <th>1</th>\n",
       "      <td>113</td>\n",
       "      <td>Joe</td>\n",
       "      <td>Mouse</td>\n",
       "      <td>5</td>\n",
       "      <td>2022-05-09</td>\n",
       "      <td>250.0</td>\n",
       "      <td>65434567</td>\n",
       "      <td>1250.0</td>\n",
       "    </tr>\n",
       "    <tr>\n",
       "      <th>2</th>\n",
       "      <td>115</td>\n",
       "      <td>Bipul</td>\n",
       "      <td>Keyboard</td>\n",
       "      <td>7</td>\n",
       "      <td>2022-05-15</td>\n",
       "      <td>350.0</td>\n",
       "      <td>654234567</td>\n",
       "      <td>2450.0</td>\n",
       "    </tr>\n",
       "    <tr>\n",
       "      <th>3</th>\n",
       "      <td>111</td>\n",
       "      <td>John</td>\n",
       "      <td>Trimmer</td>\n",
       "      <td>3</td>\n",
       "      <td>2022-05-12</td>\n",
       "      <td>450.0</td>\n",
       "      <td>6544679865567</td>\n",
       "      <td>1350.0</td>\n",
       "    </tr>\n",
       "    <tr>\n",
       "      <th>4</th>\n",
       "      <td>114</td>\n",
       "      <td>David</td>\n",
       "      <td>Monitor</td>\n",
       "      <td>1</td>\n",
       "      <td>2022-05-11</td>\n",
       "      <td>1500.0</td>\n",
       "      <td>65446123456</td>\n",
       "      <td>1500.0</td>\n",
       "    </tr>\n",
       "    <tr>\n",
       "      <th>5</th>\n",
       "      <td>112</td>\n",
       "      <td>Jerry</td>\n",
       "      <td>Tablet</td>\n",
       "      <td>2</td>\n",
       "      <td>2022-05-06</td>\n",
       "      <td>4500.0</td>\n",
       "      <td>654434567</td>\n",
       "      <td>9000.0</td>\n",
       "    </tr>\n",
       "  </tbody>\n",
       "</table>\n",
       "</div>"
      ],
      "text/plain": [
       "   Order_ids    Name      Item  Quantity Date_Ordered  Unit_price  \\\n",
       "0        116  Samuel    Bottle         8   2022-05-22        50.0   \n",
       "1        113     Joe     Mouse         5   2022-05-09       250.0   \n",
       "2        115   Bipul  Keyboard         7   2022-05-15       350.0   \n",
       "3        111    John   Trimmer         3   2022-05-12       450.0   \n",
       "4        114   David   Monitor         1   2022-05-11      1500.0   \n",
       "5        112   Jerry    Tablet         2   2022-05-06      4500.0   \n",
       "\n",
       "         Contact  Total_Paid_Amount  \n",
       "0     6544234556              400.0  \n",
       "1       65434567             1250.0  \n",
       "2      654234567             2450.0  \n",
       "3  6544679865567             1350.0  \n",
       "4    65446123456             1500.0  \n",
       "5      654434567             9000.0  "
      ]
     },
     "execution_count": 46,
     "metadata": {},
     "output_type": "execute_result"
    }
   ],
   "source": [
    "df"
   ]
  },
  {
   "cell_type": "markdown",
   "id": "regular-reflection",
   "metadata": {},
   "source": [
    "!pip3 install matplotlib"
   ]
  },
  {
   "cell_type": "code",
   "execution_count": 48,
   "id": "direct-pharmacology",
   "metadata": {},
   "outputs": [
    {
     "data": {
      "text/plain": [
       "<AxesSubplot:xlabel='Item'>"
      ]
     },
     "execution_count": 48,
     "metadata": {},
     "output_type": "execute_result"
    },
    {
     "data": {
      "image/png": "[encoded data removed]",
      "text/plain": [
       "<Figure size 432x288 with 1 Axes>"
      ]
     },
     "metadata": {
      "needs_background": "light"
     },
     "output_type": "display_data"
    }
   ],
   "source": [
    "df[['Item','Quantity']].plot.bar(x='Item' , y='Quantity')"
   ]
  },
  {
   "cell_type": "code",
   "execution_count": 50,
   "id": "absent-income",
   "metadata": {},
   "outputs": [
    {
     "name": "stdout",
     "output_type": "stream",
     "text": [
      "Database Connection Established\n",
      "Querry Executed\n"
     ]
    }
   ],
   "source": [
    "#update query\n",
    "\n",
    "update_query = \"update order_details set price = 400 where order_id = 111\"\n",
    "connection = db_connection(\"localhost\",\"root\",\"725@Mysql\", \"mysql_db\")\n",
    "results = execute_query(connection,update_query)"
   ]
  },
  {
   "cell_type": "code",
   "execution_count": 53,
   "id": "technological-nebraska",
   "metadata": {},
   "outputs": [
    {
     "name": "stdout",
     "output_type": "stream",
     "text": [
      "Database Connection Established\n",
      "(111, 'John', 'Trimmer', 3, datetime.date(2022, 5, 12), 400.0, '6544679865567')\n"
     ]
    }
   ],
   "source": [
    "#read info for id 111\n",
    "read_q111 = \"select * from order_details where order_id = 111\"\n",
    "\n",
    "connection = db_connection(\"localhost\",\"root\",\"725@Mysql\", \"mysql_db\")\n",
    "results = read_table(connection,read_q111)\n",
    "\n",
    "\n",
    "for res in results:\n",
    "    print(res)"
   ]
  },
  {
   "cell_type": "code",
   "execution_count": 54,
   "id": "intensive-arrow",
   "metadata": {},
   "outputs": [
    {
     "name": "stdout",
     "output_type": "stream",
     "text": [
      "Database Connection Established\n",
      "Querry Executed\n"
     ]
    }
   ],
   "source": [
    "#delete query\n",
    "\n",
    "delete_order = \"delete from order_details where order_id = 113\"\n",
    "connection = db_connection(\"localhost\",\"root\",\"725@Mysql\", \"mysql_db\")\n",
    "execute_query(connection,delete_order)"
   ]
  },
  {
   "cell_type": "code",
   "execution_count": 55,
   "id": "sound-insurance",
   "metadata": {},
   "outputs": [
    {
     "name": "stdout",
     "output_type": "stream",
     "text": [
      "Database Connection Established\n",
      "(116, 'Samuel', 'Bottle', 8, datetime.date(2022, 5, 22), 50.0, '6544234556')\n",
      "(115, 'Bipul', 'Keyboard', 7, datetime.date(2022, 5, 15), 350.0, '654234567')\n",
      "(111, 'John', 'Trimmer', 3, datetime.date(2022, 5, 12), 400.0, '6544679865567')\n",
      "(114, 'David', 'Monitor', 1, datetime.date(2022, 5, 11), 1500.0, '65446123456')\n",
      "(112, 'Jerry', 'Tablet', 2, datetime.date(2022, 5, 6), 4500.0, '654434567')\n"
     ]
    }
   ],
   "source": [
    "#read final\n",
    "read_query = \"select * from order_details order by price\"\n",
    "connection = db_connection(\"localhost\",\"root\",\"725@Mysql\", \"mysql_db\")\n",
    "results = read_table(connection,read_query)\n",
    "for res in results:\n",
    "    print(res)"
   ]
  },
  {
   "cell_type": "code",
   "execution_count": 56,
   "id": "disabled-hawaiian",
   "metadata": {},
   "outputs": [],
   "source": [
    "db_info = []\n",
    "\n",
    "for res in results:\n",
    "    db_info.append(list(res))\n",
    "    \n",
    "col_names = [\"Order_ids\",\"Name\",\"Item\",\"Quantity\",\"Date_Ordered\",\"Unit_price\",\"Contact\"]\n",
    "    \n",
    "df = pd.DataFrame(db_info , columns=col_names)"
   ]
  },
  {
   "cell_type": "code",
   "execution_count": 57,
   "id": "compressed-chest",
   "metadata": {},
   "outputs": [
    {
     "data": {
      "text/html": [
       "<div>\n",
       "<style scoped>\n",
       "    .dataframe tbody tr th:only-of-type {\n",
       "        vertical-align: middle;\n",
       "    }\n",
       "\n",
       "    .dataframe tbody tr th {\n",
       "        vertical-align: top;\n",
       "    }\n",
       "\n",
       "    .dataframe thead th {\n",
       "        text-align: right;\n",
       "    }\n",
       "</style>\n",
       "<table border=\"1\" class=\"dataframe\">\n",
       "  <thead>\n",
       "    <tr style=\"text-align: right;\">\n",
       "      <th></th>\n",
       "      <th>Order_ids</th>\n",
       "      <th>Name</th>\n",
       "      <th>Item</th>\n",
       "      <th>Quantity</th>\n",
       "      <th>Date_Ordered</th>\n",
       "      <th>Unit_price</th>\n",
       "      <th>Contact</th>\n",
       "    </tr>\n",
       "  </thead>\n",
       "  <tbody>\n",
       "    <tr>\n",
       "      <th>0</th>\n",
       "      <td>116</td>\n",
       "      <td>Samuel</td>\n",
       "      <td>Bottle</td>\n",
       "      <td>8</td>\n",
       "      <td>2022-05-22</td>\n",
       "      <td>50.0</td>\n",
       "      <td>6544234556</td>\n",
       "    </tr>\n",
       "    <tr>\n",
       "      <th>1</th>\n",
       "      <td>115</td>\n",
       "      <td>Bipul</td>\n",
       "      <td>Keyboard</td>\n",
       "      <td>7</td>\n",
       "      <td>2022-05-15</td>\n",
       "      <td>350.0</td>\n",
       "      <td>654234567</td>\n",
       "    </tr>\n",
       "    <tr>\n",
       "      <th>2</th>\n",
       "      <td>111</td>\n",
       "      <td>John</td>\n",
       "      <td>Trimmer</td>\n",
       "      <td>3</td>\n",
       "      <td>2022-05-12</td>\n",
       "      <td>400.0</td>\n",
       "      <td>6544679865567</td>\n",
       "    </tr>\n",
       "    <tr>\n",
       "      <th>3</th>\n",
       "      <td>114</td>\n",
       "      <td>David</td>\n",
       "      <td>Monitor</td>\n",
       "      <td>1</td>\n",
       "      <td>2022-05-11</td>\n",
       "      <td>1500.0</td>\n",
       "      <td>65446123456</td>\n",
       "    </tr>\n",
       "    <tr>\n",
       "      <th>4</th>\n",
       "      <td>112</td>\n",
       "      <td>Jerry</td>\n",
       "      <td>Tablet</td>\n",
       "      <td>2</td>\n",
       "      <td>2022-05-06</td>\n",
       "      <td>4500.0</td>\n",
       "      <td>654434567</td>\n",
       "    </tr>\n",
       "  </tbody>\n",
       "</table>\n",
       "</div>"
      ],
      "text/plain": [
       "   Order_ids    Name      Item  Quantity Date_Ordered  Unit_price  \\\n",
       "0        116  Samuel    Bottle         8   2022-05-22        50.0   \n",
       "1        115   Bipul  Keyboard         7   2022-05-15       350.0   \n",
       "2        111    John   Trimmer         3   2022-05-12       400.0   \n",
       "3        114   David   Monitor         1   2022-05-11      1500.0   \n",
       "4        112   Jerry    Tablet         2   2022-05-06      4500.0   \n",
       "\n",
       "         Contact  \n",
       "0     6544234556  \n",
       "1      654234567  \n",
       "2  6544679865567  \n",
       "3    65446123456  \n",
       "4      654434567  "
      ]
     },
     "execution_count": 57,
     "metadata": {},
     "output_type": "execute_result"
    }
   ],
   "source": [
    "df"
   ]
  },
  {
   "cell_type": "code",
   "execution_count": 58,
   "id": "narrow-benjamin",
   "metadata": {},
   "outputs": [
    {
     "data": {
      "text/plain": [
       "<AxesSubplot:xlabel='Item'>"
      ]
     },
     "execution_count": 58,
     "metadata": {},
     "output_type": "execute_result"
    },
    {
     "data": {
      "image/png": "[encoded data removed]",
      "text/plain": [
       "<Figure size 432x288 with 1 Axes>"
      ]
     },
     "metadata": {
      "needs_background": "light"
     },
     "output_type": "display_data"
    }
   ],
   "source": [
    "df[['Item','Quantity']].plot.bar(x='Item' , y='Quantity')"
   ]
  },
  {
   "cell_type": "code",
   "execution_count": null,
   "id": "raised-fishing",
   "metadata": {},
   "outputs": [],
   "source": []
  }
 ],
 "metadata": {
  "kernelspec": {
   "display_name": "Python 3",
   "language": "python",
   "name": "python3"
  },
  "language_info": {
   "codemirror_mode": {
    "name": "ipython",
    "version": 3
   },
   "file_extension": ".py",
   "mimetype": "text/x-python",
   "name": "python",
   "nbconvert_exporter": "python",
   "pygments_lexer": "ipython3",
   "version": "3.7.7"
  }
 },
 "nbformat": 4,
 "nbformat_minor": 5
}
