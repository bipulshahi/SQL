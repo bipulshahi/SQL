{
 "cells": [
  {
   "cell_type": "code",
   "execution_count": 32,
   "id": "hungry-collectible",
   "metadata": {},
   "outputs": [],
   "source": [
    "#import libraries\n",
    "\n",
    "import mysql.connector\n",
    "from mysql.connector import Error\n",
    "import pandas as pd"
   ]
  },
  {
   "cell_type": "code",
   "execution_count": 33,
   "id": "turkish-invalid",
   "metadata": {},
   "outputs": [
    {
     "name": "stdout",
     "output_type": "stream",
     "text": [
      "Database Connection Established\n",
      "<mysql.connector.connection.MySQLConnection object at 0x7f81f9284610>\n"
     ]
    }
   ],
   "source": [
    "#function to create server connection\n",
    "def server_conn(host_name,user_name,user_password):\n",
    "    connection = None\n",
    "    try:\n",
    "        connection = mysql.connector.connect(host=host_name, \n",
    "                                             user=user_name, \n",
    "                                             passwd=user_password)\n",
    "        print('Database Connection Established')\n",
    "    except Error as err:\n",
    "        print(\"Error-\",err)\n",
    "    return connection\n",
    "\n",
    "connection = server_conn(\"localhost\",\"root\",\"725@Mysql\")\n",
    "print(connection)"
   ]
  },
  {
   "cell_type": "code",
   "execution_count": 3,
   "id": "aggregate-banana",
   "metadata": {},
   "outputs": [
    {
     "ename": "NameError",
     "evalue": "name 'err' is not defined",
     "output_type": "error",
     "traceback": [
      "\u001b[0;31m---------------------------------------------------------------------------\u001b[0m",
      "\u001b[0;31mDatabaseError\u001b[0m                             Traceback (most recent call last)",
      "\u001b[0;32m<ipython-input-3-efeaab96c761>\u001b[0m in \u001b[0;36mcreate_db\u001b[0;34m(connection, query)\u001b[0m\n\u001b[1;32m      4\u001b[0m     \u001b[0;32mtry\u001b[0m\u001b[0;34m:\u001b[0m\u001b[0;34m\u001b[0m\u001b[0;34m\u001b[0m\u001b[0m\n\u001b[0;32m----> 5\u001b[0;31m         \u001b[0mcursor\u001b[0m\u001b[0;34m.\u001b[0m\u001b[0mexecute\u001b[0m\u001b[0;34m(\u001b[0m\u001b[0mquery\u001b[0m\u001b[0;34m)\u001b[0m\u001b[0;34m\u001b[0m\u001b[0;34m\u001b[0m\u001b[0m\n\u001b[0m\u001b[1;32m      6\u001b[0m         \u001b[0mprint\u001b[0m\u001b[0;34m(\u001b[0m\u001b[0;34m\"Database Created Successfully\"\u001b[0m\u001b[0;34m)\u001b[0m\u001b[0;34m\u001b[0m\u001b[0;34m\u001b[0m\u001b[0m\n",
      "\u001b[0;32m/Library/Frameworks/Python.framework/Versions/3.7/lib/python3.7/site-packages/mysql/connector/cursor.py\u001b[0m in \u001b[0;36mexecute\u001b[0;34m(self, operation, params, multi)\u001b[0m\n\u001b[1;32m    563\u001b[0m         \u001b[0;32mtry\u001b[0m\u001b[0;34m:\u001b[0m\u001b[0;34m\u001b[0m\u001b[0;34m\u001b[0m\u001b[0m\n\u001b[0;32m--> 564\u001b[0;31m             \u001b[0mself\u001b[0m\u001b[0;34m.\u001b[0m\u001b[0m_handle_result\u001b[0m\u001b[0;34m(\u001b[0m\u001b[0mself\u001b[0m\u001b[0;34m.\u001b[0m\u001b[0m_connection\u001b[0m\u001b[0;34m.\u001b[0m\u001b[0mcmd_query\u001b[0m\u001b[0;34m(\u001b[0m\u001b[0mstmt\u001b[0m\u001b[0;34m)\u001b[0m\u001b[0;34m)\u001b[0m\u001b[0;34m\u001b[0m\u001b[0;34m\u001b[0m\u001b[0m\n\u001b[0m\u001b[1;32m    565\u001b[0m         \u001b[0;32mexcept\u001b[0m \u001b[0mInterfaceError\u001b[0m \u001b[0;32mas\u001b[0m \u001b[0merr\u001b[0m\u001b[0;34m:\u001b[0m\u001b[0;34m\u001b[0m\u001b[0;34m\u001b[0m\u001b[0m\n",
      "\u001b[0;32m/Library/Frameworks/Python.framework/Versions/3.7/lib/python3.7/site-packages/mysql/connector/connection.py\u001b[0m in \u001b[0;36mcmd_query\u001b[0;34m(self, query, raw, buffered, raw_as_string)\u001b[0m\n\u001b[1;32m    989\u001b[0m         \u001b[0;32mtry\u001b[0m\u001b[0;34m:\u001b[0m\u001b[0;34m\u001b[0m\u001b[0;34m\u001b[0m\u001b[0m\n\u001b[0;32m--> 990\u001b[0;31m             \u001b[0mresult\u001b[0m \u001b[0;34m=\u001b[0m \u001b[0mself\u001b[0m\u001b[0;34m.\u001b[0m\u001b[0m_handle_result\u001b[0m\u001b[0;34m(\u001b[0m\u001b[0mself\u001b[0m\u001b[0;34m.\u001b[0m\u001b[0m_send_cmd\u001b[0m\u001b[0;34m(\u001b[0m\u001b[0mServerCmd\u001b[0m\u001b[0;34m.\u001b[0m\u001b[0mQUERY\u001b[0m\u001b[0;34m,\u001b[0m \u001b[0mquery\u001b[0m\u001b[0;34m)\u001b[0m\u001b[0;34m)\u001b[0m\u001b[0;34m\u001b[0m\u001b[0;34m\u001b[0m\u001b[0m\n\u001b[0m\u001b[1;32m    991\u001b[0m         \u001b[0;32mexcept\u001b[0m \u001b[0mProgrammingError\u001b[0m \u001b[0;32mas\u001b[0m \u001b[0merr\u001b[0m\u001b[0;34m:\u001b[0m\u001b[0;34m\u001b[0m\u001b[0;34m\u001b[0m\u001b[0m\n",
      "\u001b[0;32m/Library/Frameworks/Python.framework/Versions/3.7/lib/python3.7/site-packages/mysql/connector/connection.py\u001b[0m in \u001b[0;36m_handle_result\u001b[0;34m(self, packet)\u001b[0m\n\u001b[1;32m    783\u001b[0m         \u001b[0;32mif\u001b[0m \u001b[0mpacket\u001b[0m\u001b[0;34m[\u001b[0m\u001b[0;36m4\u001b[0m\u001b[0;34m]\u001b[0m \u001b[0;34m==\u001b[0m \u001b[0;36m255\u001b[0m\u001b[0;34m:\u001b[0m\u001b[0;34m\u001b[0m\u001b[0;34m\u001b[0m\u001b[0m\n\u001b[0;32m--> 784\u001b[0;31m             \u001b[0;32mraise\u001b[0m \u001b[0mget_exception\u001b[0m\u001b[0;34m(\u001b[0m\u001b[0mpacket\u001b[0m\u001b[0;34m)\u001b[0m\u001b[0;34m\u001b[0m\u001b[0;34m\u001b[0m\u001b[0m\n\u001b[0m\u001b[1;32m    785\u001b[0m \u001b[0;34m\u001b[0m\u001b[0m\n",
      "\u001b[0;31mDatabaseError\u001b[0m: 1007 (HY000): Can't create database 'db2'; database exists",
      "\nDuring handling of the above exception, another exception occurred:\n",
      "\u001b[0;31mNameError\u001b[0m                                 Traceback (most recent call last)",
      "\u001b[0;32m<ipython-input-3-efeaab96c761>\u001b[0m in \u001b[0;36m<module>\u001b[0;34m\u001b[0m\n\u001b[1;32m      9\u001b[0m \u001b[0;34m\u001b[0m\u001b[0m\n\u001b[1;32m     10\u001b[0m \u001b[0mdatabase_create_query\u001b[0m \u001b[0;34m=\u001b[0m \u001b[0;34m\"Create database db2\"\u001b[0m\u001b[0;34m\u001b[0m\u001b[0;34m\u001b[0m\u001b[0m\n\u001b[0;32m---> 11\u001b[0;31m \u001b[0mcreate_db\u001b[0m\u001b[0;34m(\u001b[0m\u001b[0mconnection\u001b[0m\u001b[0;34m,\u001b[0m\u001b[0mdatabase_create_query\u001b[0m\u001b[0;34m)\u001b[0m\u001b[0;34m\u001b[0m\u001b[0;34m\u001b[0m\u001b[0m\n\u001b[0m",
      "\u001b[0;32m<ipython-input-3-efeaab96c761>\u001b[0m in \u001b[0;36mcreate_db\u001b[0;34m(connection, query)\u001b[0m\n\u001b[1;32m      6\u001b[0m         \u001b[0mprint\u001b[0m\u001b[0;34m(\u001b[0m\u001b[0;34m\"Database Created Successfully\"\u001b[0m\u001b[0;34m)\u001b[0m\u001b[0;34m\u001b[0m\u001b[0;34m\u001b[0m\u001b[0m\n\u001b[1;32m      7\u001b[0m     \u001b[0;32mexcept\u001b[0m\u001b[0;34m:\u001b[0m\u001b[0;34m\u001b[0m\u001b[0;34m\u001b[0m\u001b[0m\n\u001b[0;32m----> 8\u001b[0;31m         \u001b[0mprint\u001b[0m\u001b[0;34m(\u001b[0m\u001b[0;34m\"Error-\"\u001b[0m\u001b[0;34m,\u001b[0m\u001b[0merr\u001b[0m\u001b[0;34m)\u001b[0m\u001b[0;34m\u001b[0m\u001b[0;34m\u001b[0m\u001b[0m\n\u001b[0m\u001b[1;32m      9\u001b[0m \u001b[0;34m\u001b[0m\u001b[0m\n\u001b[1;32m     10\u001b[0m \u001b[0mdatabase_create_query\u001b[0m \u001b[0;34m=\u001b[0m \u001b[0;34m\"Create database db2\"\u001b[0m\u001b[0;34m\u001b[0m\u001b[0;34m\u001b[0m\u001b[0m\n",
      "\u001b[0;31mNameError\u001b[0m: name 'err' is not defined"
     ]
    }
   ],
   "source": [
    "#function to create a database\n",
    "def create_db(connection,query):\n",
    "    cursor = connection.cursor()\n",
    "    try:\n",
    "        cursor.execute(query)\n",
    "        print(\"Database Created Successfully\")\n",
    "    except:\n",
    "        print(\"Error-\",err)\n",
    "        \n",
    "database_create_query = \"Create database db2\"\n",
    "create_db(connection,database_create_query)"
   ]
  },
  {
   "cell_type": "code",
   "execution_count": 34,
   "id": "strong-import",
   "metadata": {},
   "outputs": [],
   "source": [
    "#Connection to database\n",
    "def db_connection(host_name,user_name,user_password , db_name):\n",
    "    connection = None\n",
    "    try:\n",
    "        connection = mysql.connector.connect(host=host_name, \n",
    "                                             user=user_name, \n",
    "                                             passwd=user_password,\n",
    "                                             database=db_name)\n",
    "        print('Database Connection Established')\n",
    "    except Error as err:\n",
    "        print(\"Error-\",err)\n",
    "    return connection"
   ]
  },
  {
   "cell_type": "code",
   "execution_count": 35,
   "id": "promotional-catalog",
   "metadata": {},
   "outputs": [],
   "source": [
    "#function to execute sql querries\n",
    "\n",
    "def execute_query(connection,query):\n",
    "    cursor = connection.cursor()\n",
    "    try:\n",
    "        cursor.execute(query)\n",
    "        connection.commit()\n",
    "        print(\"Querry Executed\")\n",
    "    except Error as err:\n",
    "        print(\"Error-\",err)"
   ]
  },
  {
   "cell_type": "code",
   "execution_count": 36,
   "id": "neither-qatar",
   "metadata": {},
   "outputs": [
    {
     "name": "stdout",
     "output_type": "stream",
     "text": [
      "Database Connection Established\n",
      "Error- 1050 (42S01): Table 'emp_details' already exists\n"
     ]
    }
   ],
   "source": [
    "#create a table to maintain product order history\n",
    "create_employee = \"\"\"\n",
    "create table emp_details(\n",
    "e_id int primary key, \n",
    "e_name varchar(35) , \n",
    "e_salary INTEGER(6),\n",
    "e_age int,\n",
    "e_gender varchar(35),\n",
    "e_dept varchar(25));\n",
    "\"\"\"\n",
    "\n",
    "#database connection\n",
    "connection = db_connection(\"localhost\",\"root\",\"725@Mysql\", \"db2\")\n",
    "execute_query(connection,create_employee)"
   ]
  },
  {
   "cell_type": "code",
   "execution_count": 37,
   "id": "delayed-peter",
   "metadata": {},
   "outputs": [
    {
     "name": "stdout",
     "output_type": "stream",
     "text": [
      "Database Connection Established\n",
      "Error- 1062 (23000): Duplicate entry '1' for key 'emp_details.PRIMARY'\n"
     ]
    }
   ],
   "source": [
    "#Insert data into the table\n",
    "\n",
    "emp_info = \"\"\"\n",
    "insert into emp_details values\n",
    "(1, 'John', 95000, 45, 'Male', 'Operations'),\n",
    "\n",
    "(2, 'Jerry', 80000, 22, 'Male', 'Support'),\n",
    "\n",
    "(3, 'Anne', 120000, 25, 'Female', 'Analytics'),\n",
    "\n",
    "(4, 'Jerry', 72000, 30, 'Female', 'Analytics'),\n",
    "\n",
    "(5, 'Bipul', 150000, 33, 'Male', 'Sales'),\n",
    "\n",
    "(6, 'Samuel', 112000, 28, 'Male', 'Operations');\n",
    "\"\"\"\n",
    "\n",
    "connection = db_connection(\"localhost\",\"root\",\"725@Mysql\", \"db2\")\n",
    "execute_query(connection,emp_info)"
   ]
  },
  {
   "cell_type": "code",
   "execution_count": 38,
   "id": "ignored-phase",
   "metadata": {},
   "outputs": [],
   "source": [
    "#Read the data table\n",
    "\n",
    "def read_table(connection,query):\n",
    "    cursor = connection.cursor()\n",
    "    result = None\n",
    "    try:\n",
    "        cursor.execute(query)\n",
    "        result = cursor.fetchall()\n",
    "        return result\n",
    "    except Error as err:\n",
    "        print(\"Error-\",err)"
   ]
  },
  {
   "cell_type": "code",
   "execution_count": 39,
   "id": "widespread-fitness",
   "metadata": {},
   "outputs": [
    {
     "name": "stdout",
     "output_type": "stream",
     "text": [
      "Database Connection Established\n",
      "(1, 'John', 95000, 45, 'Male', 'Operations')\n",
      "(2, 'Jerry', 80000, 22, 'Male', 'Support')\n",
      "(3, 'Anne', 120000, 25, 'Female', 'Analytics')\n",
      "(4, 'Jerry', 72000, 30, 'Female', 'Analytics')\n",
      "(5, 'Bipul', 150000, 33, 'Male', 'Sales')\n",
      "(6, 'Samuel', 112000, 28, 'Male', 'Operations')\n"
     ]
    }
   ],
   "source": [
    "#execute read function\n",
    "\n",
    "read_query = \"select * from emp_details\"\n",
    "connection = db_connection(\"localhost\",\"root\",\"725@Mysql\", \"db2\")\n",
    "results = read_table(connection,read_query)\n",
    "for res in results:\n",
    "    print(res)"
   ]
  },
  {
   "cell_type": "markdown",
   "id": "married-cabinet",
   "metadata": {},
   "source": [
    "**Types of Function**\n",
    " * Basic Function\n",
    " * String Function\n",
    " * Case Function\n",
    " * IF Function\n",
    " * User-Defined Function"
   ]
  },
  {
   "cell_type": "markdown",
   "id": "confused-submission",
   "metadata": {},
   "source": [
    "# Basic functions"
   ]
  },
  {
   "cell_type": "markdown",
   "id": "eleven-wilson",
   "metadata": {},
   "source": [
    "**MIN() - gives Smallest value**"
   ]
  },
  {
   "cell_type": "code",
   "execution_count": 40,
   "id": "molecular-validity",
   "metadata": {},
   "outputs": [
    {
     "name": "stdout",
     "output_type": "stream",
     "text": [
      "Database Connection Established\n",
      "(22,)\n"
     ]
    }
   ],
   "source": [
    "min_age = \"select min(e_age) from emp_details;\"\n",
    "connection = db_connection(\"localhost\",\"root\",\"725@Mysql\", \"db2\")\n",
    "\n",
    "result = read_table(connection,min_age)\n",
    "for res in result:\n",
    "    print(res)"
   ]
  },
  {
   "cell_type": "markdown",
   "id": "stretch-caution",
   "metadata": {},
   "source": [
    "**MAX() - gives largest value**"
   ]
  },
  {
   "cell_type": "code",
   "execution_count": 41,
   "id": "metropolitan-learning",
   "metadata": {},
   "outputs": [
    {
     "name": "stdout",
     "output_type": "stream",
     "text": [
      "Database Connection Established\n",
      "(45,)\n"
     ]
    }
   ],
   "source": [
    "max_age = \"select max(e_age) from emp_details;\"\n",
    "connection = db_connection(\"localhost\",\"root\",\"725@Mysql\", \"db2\")\n",
    "\n",
    "result = read_table(connection,max_age)\n",
    "for res in result:\n",
    "    print(res)"
   ]
  },
  {
   "cell_type": "code",
   "execution_count": 42,
   "id": "minimal-provider",
   "metadata": {},
   "outputs": [
    {
     "name": "stdout",
     "output_type": "stream",
     "text": [
      "Database Connection Established\n",
      "(150000,)\n"
     ]
    }
   ],
   "source": [
    "max_salary = \"select max(e_salary) from emp_details;\"\n",
    "connection = db_connection(\"localhost\",\"root\",\"725@Mysql\", \"db2\")\n",
    "\n",
    "result = read_table(connection,max_salary)\n",
    "for res in result:\n",
    "    print(res)"
   ]
  },
  {
   "cell_type": "markdown",
   "id": "agreed-reception",
   "metadata": {},
   "source": [
    "**count() - returns number of rows that match specific criteria**"
   ]
  },
  {
   "cell_type": "code",
   "execution_count": 43,
   "id": "flying-suggestion",
   "metadata": {},
   "outputs": [
    {
     "name": "stdout",
     "output_type": "stream",
     "text": [
      "Database Connection Established\n",
      "(4,)\n"
     ]
    }
   ],
   "source": [
    "count_male = \"select count(*) from emp_details where e_gender='Male';\"\n",
    "connection = db_connection(\"localhost\",\"root\",\"725@Mysql\", \"db2\")\n",
    "\n",
    "result = read_table(connection,count_male)\n",
    "for res in result:\n",
    "    print(res)"
   ]
  },
  {
   "cell_type": "code",
   "execution_count": 44,
   "id": "standard-hospital",
   "metadata": {},
   "outputs": [
    {
     "name": "stdout",
     "output_type": "stream",
     "text": [
      "Database Connection Established\n",
      "(2,)\n"
     ]
    }
   ],
   "source": [
    "count_male = \"select count(*) from emp_details where e_gender='Female';\"\n",
    "connection = db_connection(\"localhost\",\"root\",\"725@Mysql\", \"db2\")\n",
    "\n",
    "result = read_table(connection,count_male)\n",
    "for res in result:\n",
    "    print(res)"
   ]
  },
  {
   "cell_type": "markdown",
   "id": "contemporary-compact",
   "metadata": {},
   "source": [
    "**SUM() - returns total sum of a numeric column**"
   ]
  },
  {
   "cell_type": "code",
   "execution_count": 45,
   "id": "authorized-blank",
   "metadata": {},
   "outputs": [
    {
     "name": "stdout",
     "output_type": "stream",
     "text": [
      "Database Connection Established\n",
      "(Decimal('629000'),)\n"
     ]
    }
   ],
   "source": [
    "sum_salary = \"select sum(e_salary) from emp_details;\"\n",
    "connection = db_connection(\"localhost\",\"root\",\"725@Mysql\", \"db2\")\n",
    "\n",
    "result = read_table(connection,sum_salary)\n",
    "for res in result:\n",
    "    print(res)"
   ]
  },
  {
   "cell_type": "markdown",
   "id": "heated-laundry",
   "metadata": {},
   "source": [
    "**AVG() - returns average values of a numeric column**"
   ]
  },
  {
   "cell_type": "code",
   "execution_count": 46,
   "id": "certain-chaos",
   "metadata": {},
   "outputs": [
    {
     "name": "stdout",
     "output_type": "stream",
     "text": [
      "Database Connection Established\n",
      "(Decimal('104833.3333'),)\n"
     ]
    }
   ],
   "source": [
    "avg_salary = \"select avg(e_salary) from emp_details;\"\n",
    "connection = db_connection(\"localhost\",\"root\",\"725@Mysql\", \"db2\")\n",
    "\n",
    "result = read_table(connection,avg_salary)\n",
    "for res in result:\n",
    "    print(res)"
   ]
  },
  {
   "cell_type": "code",
   "execution_count": 47,
   "id": "pediatric-studio",
   "metadata": {},
   "outputs": [
    {
     "name": "stdout",
     "output_type": "stream",
     "text": [
      "Database Connection Established\n",
      "(Decimal('30.5000'),)\n"
     ]
    }
   ],
   "source": [
    "avg_age = \"select avg(e_age) from emp_details;\"\n",
    "connection = db_connection(\"localhost\",\"root\",\"725@Mysql\", \"db2\")\n",
    "\n",
    "result = read_table(connection,avg_age)\n",
    "for res in result:\n",
    "    print(res)"
   ]
  },
  {
   "cell_type": "markdown",
   "id": "complicated-discussion",
   "metadata": {},
   "source": [
    "# String Functions"
   ]
  },
  {
   "cell_type": "markdown",
   "id": "plain-mumbai",
   "metadata": {},
   "source": [
    "* **LTRIM() - Removes Blanks on Left side of the character expression**\n",
    "* **LOWER() - Converts all characters into lower cases**\n",
    "* **UPPER() - Converts all cjharacters into upper cases**\n",
    "* **REVERSE() - Reverses all characters in the string**\n",
    "* **SUBSTRING() - Gives Sub string from original using Slicing**"
   ]
  },
  {
   "cell_type": "code",
   "execution_count": 48,
   "id": "collected-apartment",
   "metadata": {},
   "outputs": [
    {
     "name": "stdout",
     "output_type": "stream",
     "text": [
      "('   Bipul ',)\n"
     ]
    }
   ],
   "source": [
    "l_trim = \"select '   Bipul ';\"\n",
    "#connection = db_connection(\"localhost\",\"root\",\"725@Mysql\", \"db2\")\n",
    "\n",
    "result = read_table(connection,l_trim)\n",
    "for res in result:\n",
    "    print(res)"
   ]
  },
  {
   "cell_type": "code",
   "execution_count": 49,
   "id": "marine-hopkins",
   "metadata": {},
   "outputs": [
    {
     "name": "stdout",
     "output_type": "stream",
     "text": [
      "('Bipul ',)\n"
     ]
    }
   ],
   "source": [
    "l_trim = \"select ltrim('   Bipul ');\"\n",
    "#connection = db_connection(\"localhost\",\"root\",\"725@Mysql\", \"db2\")\n",
    "\n",
    "result = read_table(connection,l_trim)\n",
    "for res in result:\n",
    "    print(res)"
   ]
  },
  {
   "cell_type": "code",
   "execution_count": 50,
   "id": "finnish-production",
   "metadata": {},
   "outputs": [
    {
     "name": "stdout",
     "output_type": "stream",
     "text": [
      "('hello world!!',)\n"
     ]
    }
   ],
   "source": [
    "l_case = \"select lower('HELLO WORLD!!');\"\n",
    "#connection = db_connection(\"localhost\",\"root\",\"725@Mysql\", \"db2\")\n",
    "\n",
    "result = read_table(connection,l_case)\n",
    "for res in result:\n",
    "    print(res)"
   ]
  },
  {
   "cell_type": "code",
   "execution_count": 51,
   "id": "graduate-thumb",
   "metadata": {},
   "outputs": [
    {
     "name": "stdout",
     "output_type": "stream",
     "text": [
      "('HELLO WORLD!!',)\n"
     ]
    }
   ],
   "source": [
    "u_case = \"select upper('hello world!!');\"\n",
    "#connection = db_connection(\"localhost\",\"root\",\"725@Mysql\", \"db2\")\n",
    "\n",
    "result = read_table(connection,u_case)\n",
    "for res in result:\n",
    "    print(res)"
   ]
  },
  {
   "cell_type": "code",
   "execution_count": 52,
   "id": "visible-poker",
   "metadata": {},
   "outputs": [
    {
     "name": "stdout",
     "output_type": "stream",
     "text": [
      "('!!dlrow olleh',)\n"
     ]
    }
   ],
   "source": [
    "r_string = \"select reverse('hello world!!');\"\n",
    "#connection = db_connection(\"localhost\",\"root\",\"725@Mysql\", \"db2\")\n",
    "\n",
    "result = read_table(connection,r_string)\n",
    "for res in result:\n",
    "    print(res)"
   ]
  },
  {
   "cell_type": "code",
   "execution_count": 53,
   "id": "optional-concern",
   "metadata": {},
   "outputs": [
    {
     "name": "stdout",
     "output_type": "stream",
     "text": [
      "('rain',)\n"
     ]
    }
   ],
   "source": [
    "sub_string = \"select substring('Today it seems to be rain' , 22 , 4);\"\n",
    "#connection = db_connection(\"localhost\",\"root\",\"725@Mysql\", \"db2\")\n",
    "\n",
    "result = read_table(connection,sub_string)\n",
    "for res in result:\n",
    "    print(res)"
   ]
  },
  {
   "cell_type": "markdown",
   "id": "front-consent",
   "metadata": {},
   "source": [
    "# CASE statements - used to make mutiway decisions"
   ]
  },
  {
   "cell_type": "code",
   "execution_count": 54,
   "id": "periodic-episode",
   "metadata": {},
   "outputs": [
    {
     "name": "stdout",
     "output_type": "stream",
     "text": [
      "Database Connection Established\n",
      "(1, 'John', 95000, 45, 'Male', 'Operations', 'B')\n",
      "(2, 'Jerry', 80000, 22, 'Male', 'Support', 'C')\n",
      "(3, 'Anne', 120000, 25, 'Female', 'Analytics', 'A')\n",
      "(4, 'Jerry', 72000, 30, 'Female', 'Analytics', 'C')\n",
      "(5, 'Bipul', 150000, 33, 'Male', 'Sales', 'A')\n",
      "(6, 'Samuel', 112000, 28, 'Male', 'Operations', 'B')\n"
     ]
    }
   ],
   "source": [
    "case_queary = \"\"\"\n",
    "select *,\n",
    "case\n",
    "when e_salary < 90000 then 'C'\n",
    "when e_salary < 120000 then 'B'\n",
    "else 'A'\n",
    "end as grade\n",
    "from emp_details;\"\"\"\n",
    "\n",
    "connection = db_connection(\"localhost\",\"root\",\"725@Mysql\", \"db2\")\n",
    "\n",
    "result = read_table(connection,case_queary)\n",
    "for res in result:\n",
    "    print(res)"
   ]
  },
  {
   "cell_type": "markdown",
   "id": "active-sheet",
   "metadata": {},
   "source": [
    "# IF() - It is an alternative to case statement"
   ]
  },
  {
   "cell_type": "code",
   "execution_count": 55,
   "id": "sustained-minority",
   "metadata": {},
   "outputs": [
    {
     "name": "stdout",
     "output_type": "stream",
     "text": [
      "Database Connection Established\n",
      "(1, 'John', 45, 'Old employee')\n",
      "(2, 'Jerry', 22, 'Young employee')\n",
      "(3, 'Anne', 25, 'Young employee')\n",
      "(4, 'Jerry', 30, 'Young employee')\n",
      "(5, 'Bipul', 33, 'Old employee')\n",
      "(6, 'Samuel', 28, 'Young employee')\n"
     ]
    }
   ],
   "source": [
    "iif_query = \"\"\"select e_id,e_name,e_age, IF(e_age>30,'Old employee','Young employee') \n",
    "as e_generation from emp_details\"\"\"\n",
    "\n",
    "connection = db_connection(\"localhost\",\"root\",\"725@Mysql\", \"db2\")\n",
    "\n",
    "result = read_table(connection,iif_query)\n",
    "for res in result:\n",
    "    print(res)"
   ]
  },
  {
   "cell_type": "markdown",
   "id": "quality-charge",
   "metadata": {},
   "source": [
    "# User Defined Function"
   ]
  },
  {
   "cell_type": "markdown",
   "id": "bound-quarterly",
   "metadata": {},
   "source": [
    "* **Scaler valued**\n",
    "* **Table valued**"
   ]
  },
  {
   "cell_type": "markdown",
   "id": "considerable-killing",
   "metadata": {},
   "source": [
    "**Scaler values will always returns scaler value**"
   ]
  },
  {
   "cell_type": "code",
   "execution_count": 57,
   "id": "worst-cologne",
   "metadata": {},
   "outputs": [
    {
     "name": "stdout",
     "output_type": "stream",
     "text": [
      "Querry Executed\n"
     ]
    }
   ],
   "source": [
    "que = \"create function add_ten(num int) returns int DETERMINISTIC return (num+10);\"\n",
    "execute_query(connection,que)"
   ]
  },
  {
   "cell_type": "code",
   "execution_count": 62,
   "id": "studied-offset",
   "metadata": {},
   "outputs": [
    {
     "name": "stdout",
     "output_type": "stream",
     "text": [
      "Database Connection Established\n",
      "(13,)\n"
     ]
    }
   ],
   "source": [
    "trig_function = \"SELECT add_ten(3);\"\n",
    "\n",
    "connection = db_connection(\"localhost\",\"root\",\"725@Mysql\",\"db2\")\n",
    "\n",
    "result = read_table(connection , trig_function)\n",
    "for res in result:\n",
    "    print(res)"
   ]
  },
  {
   "cell_type": "markdown",
   "id": "aggressive-plastic",
   "metadata": {},
   "source": [
    "# Clauses in MySql - OrderBy, GroupBy, having"
   ]
  },
  {
   "cell_type": "markdown",
   "id": "intensive-adolescent",
   "metadata": {},
   "source": [
    "**ORDER BY- to sort data in asscending or descending order**"
   ]
  },
  {
   "cell_type": "code",
   "execution_count": 65,
   "id": "italic-bacon",
   "metadata": {},
   "outputs": [
    {
     "name": "stdout",
     "output_type": "stream",
     "text": [
      "(4, 'Jerry', 72000, 30, 'Female', 'Analytics')\n",
      "(2, 'Jerry', 80000, 22, 'Male', 'Support')\n",
      "(1, 'John', 95000, 45, 'Male', 'Operations')\n",
      "(6, 'Samuel', 112000, 28, 'Male', 'Operations')\n",
      "(3, 'Anne', 120000, 25, 'Female', 'Analytics')\n",
      "(5, 'Bipul', 150000, 33, 'Male', 'Sales')\n"
     ]
    }
   ],
   "source": [
    "que = \"select * from emp_details order by e_salary\"\n",
    "\n",
    "result = read_table(connection , que)\n",
    "for res in result:\n",
    "    print(res)"
   ]
  },
  {
   "cell_type": "code",
   "execution_count": 66,
   "id": "variable-nursing",
   "metadata": {},
   "outputs": [
    {
     "name": "stdout",
     "output_type": "stream",
     "text": [
      "(5, 'Bipul', 150000, 33, 'Male', 'Sales')\n",
      "(3, 'Anne', 120000, 25, 'Female', 'Analytics')\n",
      "(6, 'Samuel', 112000, 28, 'Male', 'Operations')\n",
      "(1, 'John', 95000, 45, 'Male', 'Operations')\n",
      "(2, 'Jerry', 80000, 22, 'Male', 'Support')\n",
      "(4, 'Jerry', 72000, 30, 'Female', 'Analytics')\n"
     ]
    }
   ],
   "source": [
    "que = \"select * from emp_details order by e_salary DESC\"\n",
    "\n",
    "result = read_table(connection , que)\n",
    "for res in result:\n",
    "    print(res)"
   ]
  },
  {
   "cell_type": "markdown",
   "id": "three-kingdom",
   "metadata": {},
   "source": [
    "**Top 3 rows**"
   ]
  },
  {
   "cell_type": "code",
   "execution_count": 68,
   "id": "scheduled-shopping",
   "metadata": {},
   "outputs": [
    {
     "name": "stdout",
     "output_type": "stream",
     "text": [
      "(1, 'John', 95000, 45, 'Male', 'Operations')\n",
      "(2, 'Jerry', 80000, 22, 'Male', 'Support')\n",
      "(3, 'Anne', 120000, 25, 'Female', 'Analytics')\n"
     ]
    }
   ],
   "source": [
    "#que = \"select TOP 3 * from emp_details\"\n",
    "que = \"select * from emp_details LIMIT 3\"\n",
    "\n",
    "result = read_table(connection , que)\n",
    "for res in result:\n",
    "    print(res)"
   ]
  },
  {
   "cell_type": "code",
   "execution_count": 70,
   "id": "specified-norfolk",
   "metadata": {},
   "outputs": [
    {
     "name": "stdout",
     "output_type": "stream",
     "text": [
      "(2, 'Jerry', 80000, 22, 'Male', 'Support')\n",
      "(3, 'Anne', 120000, 25, 'Female', 'Analytics')\n",
      "(6, 'Samuel', 112000, 28, 'Male', 'Operations')\n"
     ]
    }
   ],
   "source": [
    "#que = \"select TOP 3 * from emp_details order by e_age desc\"\n",
    "que = \"select * from emp_details order by e_age LIMIT 3\"\n",
    "\n",
    "result = read_table(connection , que)\n",
    "for res in result:\n",
    "    print(res)"
   ]
  },
  {
   "cell_type": "markdown",
   "id": "toxic-interstate",
   "metadata": {},
   "source": [
    "**Group By - used to get aggregate result with respect to a group**"
   ]
  },
  {
   "cell_type": "code",
   "execution_count": 71,
   "id": "rational-massage",
   "metadata": {},
   "outputs": [
    {
     "name": "stdout",
     "output_type": "stream",
     "text": [
      "(Decimal('109250.0000'), 'Male')\n",
      "(Decimal('96000.0000'), 'Female')\n"
     ]
    }
   ],
   "source": [
    "que = \"select avg(e_salary),e_gender from emp_details GROUP BY e_gender;\"\n",
    "\n",
    "result = read_table(connection , que)\n",
    "for res in result:\n",
    "    print(res)"
   ]
  },
  {
   "cell_type": "code",
   "execution_count": 72,
   "id": "behind-conviction",
   "metadata": {},
   "outputs": [
    {
     "name": "stdout",
     "output_type": "stream",
     "text": [
      "(Decimal('103500.0000'), 'Operations')\n",
      "(Decimal('80000.0000'), 'Support')\n",
      "(Decimal('96000.0000'), 'Analytics')\n",
      "(Decimal('150000.0000'), 'Sales')\n"
     ]
    }
   ],
   "source": [
    "que = \"select avg(e_salary),e_dept from emp_details GROUP BY e_dept;\"\n",
    "\n",
    "result = read_table(connection , que)\n",
    "for res in result:\n",
    "    print(res)"
   ]
  },
  {
   "cell_type": "code",
   "execution_count": 73,
   "id": "black-terrain",
   "metadata": {},
   "outputs": [
    {
     "name": "stdout",
     "output_type": "stream",
     "text": [
      "(Decimal('80000.0000'), 'Support')\n",
      "(Decimal('96000.0000'), 'Analytics')\n",
      "(Decimal('150000.0000'), 'Sales')\n",
      "(Decimal('103500.0000'), 'Operations')\n"
     ]
    }
   ],
   "source": [
    "que = \"select avg(e_salary),e_dept from emp_details GROUP BY e_dept order by avg(e_age);\"\n",
    "\n",
    "result = read_table(connection , que)\n",
    "for res in result:\n",
    "    print(res)"
   ]
  },
  {
   "cell_type": "code",
   "execution_count": 74,
   "id": "reported-effects",
   "metadata": {},
   "outputs": [
    {
     "name": "stdout",
     "output_type": "stream",
     "text": [
      "(Decimal('103500.0000'), 'Operations')\n",
      "(Decimal('150000.0000'), 'Sales')\n",
      "(Decimal('96000.0000'), 'Analytics')\n",
      "(Decimal('80000.0000'), 'Support')\n"
     ]
    }
   ],
   "source": [
    "que = \"select avg(e_salary),e_dept from emp_details GROUP BY e_dept order by avg(e_age) desc;\"\n",
    "\n",
    "result = read_table(connection , que)\n",
    "for res in result:\n",
    "    print(res)"
   ]
  },
  {
   "cell_type": "markdown",
   "id": "verbal-dover",
   "metadata": {},
   "source": [
    "**Having clause - used with group by to impose conditions on groups**"
   ]
  },
  {
   "cell_type": "code",
   "execution_count": 75,
   "id": "danish-brighton",
   "metadata": {},
   "outputs": [
    {
     "name": "stdout",
     "output_type": "stream",
     "text": [
      "('Operations', Decimal('103500.0000'))\n",
      "('Sales', Decimal('150000.0000'))\n"
     ]
    }
   ],
   "source": [
    "que = \"select e_dept, avg(e_salary) as avg_salary from emp_details group by e_dept having avg(e_salary) > 100000\"\n",
    "\n",
    "result = read_table(connection , que)\n",
    "for res in result:\n",
    "    print(res)"
   ]
  },
  {
   "cell_type": "code",
   "execution_count": 76,
   "id": "bridal-outdoors",
   "metadata": {},
   "outputs": [
    {
     "name": "stdout",
     "output_type": "stream",
     "text": [
      "(3, 'Anne', 120000, 25, 'Female', 'Analytics')\n",
      "(5, 'Bipul', 150000, 33, 'Male', 'Sales')\n",
      "(6, 'Samuel', 112000, 28, 'Male', 'Operations')\n"
     ]
    }
   ],
   "source": [
    "que = \"select * from emp_details where e_salary > 100000\"\n",
    "\n",
    "result = read_table(connection , que)\n",
    "for res in result:\n",
    "    print(res)"
   ]
  },
  {
   "cell_type": "code",
   "execution_count": 79,
   "id": "orange-cheat",
   "metadata": {},
   "outputs": [
    {
     "name": "stdout",
     "output_type": "stream",
     "text": [
      "(1, 'John', 95000, 45, 'Male', 'Operations')\n",
      "(2, 'Jerry', 80000, 22, 'Male', 'Support')\n",
      "(5, 'Bipul', 150000, 33, 'Male', 'Sales')\n",
      "(6, 'Samuel', 112000, 28, 'Male', 'Operations')\n"
     ]
    }
   ],
   "source": [
    "que = \"select * from emp_details where e_gender = 'Male';\"\n",
    "\n",
    "result = read_table(connection , que)\n",
    "for res in result:\n",
    "    print(res)"
   ]
  },
  {
   "cell_type": "code",
   "execution_count": null,
   "id": "special-simulation",
   "metadata": {},
   "outputs": [],
   "source": []
  }
 ],
 "metadata": {
  "kernelspec": {
   "display_name": "Python 3",
   "language": "python",
   "name": "python3"
  },
  "language_info": {
   "codemirror_mode": {
    "name": "ipython",
    "version": 3
   },
   "file_extension": ".py",
   "mimetype": "text/x-python",
   "name": "python",
   "nbconvert_exporter": "python",
   "pygments_lexer": "ipython3",
   "version": "3.7.7"
  }
 },
 "nbformat": 4,
 "nbformat_minor": 5
}
